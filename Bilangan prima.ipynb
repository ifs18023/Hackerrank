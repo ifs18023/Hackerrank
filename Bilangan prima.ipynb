{
 "cells": [
  {
   "cell_type": "code",
   "execution_count": 18,
   "id": "084bcb1d",
   "metadata": {},
   "outputs": [
    {
     "name": "stdout",
     "output_type": "stream",
     "text": [
      "Bilangan prima antara 1 and 3 :\n",
      "2\n",
      "3\n"
     ]
    }
   ],
   "source": [
    "# Program untuk menampilkan semua bilangan prima pada interval tertentu \n",
    "# Ubah nilai lower dan upper untuk hasil yang lain \n",
    "lower = 1\n",
    "upper = 3\n",
    "print(\"Bilangan prima antara\",lower,\"and\",upper,\":\") \n",
    "for num in range(lower,upper + 1): \n",
    "    if num > 1: \n",
    "        for i in range(2,num): \n",
    "            if (num % i) == 0: \n",
    "                break \n",
    "        else: \n",
    "            print(num) \n"
   ]
  },
  {
   "cell_type": "code",
   "execution_count": null,
   "id": "b27ffb10",
   "metadata": {},
   "outputs": [],
   "source": [
    "0"
   ]
  },
  {
   "cell_type": "code",
   "execution_count": null,
   "id": "7e819979",
   "metadata": {},
   "outputs": [],
   "source": []
  },
  {
   "cell_type": "code",
   "execution_count": null,
   "id": "368df384",
   "metadata": {},
   "outputs": [],
   "source": []
  },
  {
   "cell_type": "code",
   "execution_count": null,
   "id": "792a4c10",
   "metadata": {},
   "outputs": [],
   "source": []
  }
 ],
 "metadata": {
  "kernelspec": {
   "display_name": "Python 3",
   "language": "python",
   "name": "python3"
  },
  "language_info": {
   "codemirror_mode": {
    "name": "ipython",
    "version": 3
   },
   "file_extension": ".py",
   "mimetype": "text/x-python",
   "name": "python",
   "nbconvert_exporter": "python",
   "pygments_lexer": "ipython3",
   "version": "3.8.8"
  }
 },
 "nbformat": 4,
 "nbformat_minor": 5
}
